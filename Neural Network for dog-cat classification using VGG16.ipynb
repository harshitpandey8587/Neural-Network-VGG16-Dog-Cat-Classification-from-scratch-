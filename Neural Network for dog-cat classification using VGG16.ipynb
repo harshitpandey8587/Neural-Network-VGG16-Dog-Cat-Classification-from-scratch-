{
  "nbformat": 4,
  "nbformat_minor": 0,
  "metadata": {
    "colab": {
      "name": "Untitled7.ipynb",
      "provenance": []
    },
    "kernelspec": {
      "display_name": "Python 3",
      "name": "python3"
    }
  },
  "cells": [
    {
      "cell_type": "code",
      "metadata": {
        "id": "H-3CzWMP5uX8"
      },
      "source": [
        "from tensorflow.keras.applications import VGG16\r\n",
        "from tensorflow.keras.applications import VGG19\r\n",
        "from tensorflow.keras.layers import Dense, Flatten, Input\r\n",
        "from tensorflow.keras.preprocessing.image import ImageDataGenerator, load_img\r\n",
        "from tensorflow.keras.models import Sequential,Model"
      ],
      "execution_count": 54,
      "outputs": []
    },
    {
      "cell_type": "code",
      "metadata": {
        "id": "9U87KGPN6K6e"
      },
      "source": [
        "image_size=[100,100]\r\n",
        "model=VGG16(input_shape=image_size+[3],include_top=False, weights='imagenet')\r\n"
      ],
      "execution_count": 55,
      "outputs": []
    },
    {
      "cell_type": "code",
      "metadata": {
        "colab": {
          "base_uri": "https://localhost:8080/"
        },
        "id": "yiDlPaYCEOVN",
        "outputId": "764e5f1b-37e0-4d6e-85e5-e3c5d84abc74"
      },
      "source": [
        "model.summary()"
      ],
      "execution_count": 56,
      "outputs": [
        {
          "output_type": "stream",
          "text": [
            "Model: \"vgg16\"\n",
            "_________________________________________________________________\n",
            "Layer (type)                 Output Shape              Param #   \n",
            "=================================================================\n",
            "input_3 (InputLayer)         [(None, 100, 100, 3)]     0         \n",
            "_________________________________________________________________\n",
            "block1_conv1 (Conv2D)        (None, 100, 100, 64)      1792      \n",
            "_________________________________________________________________\n",
            "block1_conv2 (Conv2D)        (None, 100, 100, 64)      36928     \n",
            "_________________________________________________________________\n",
            "block1_pool (MaxPooling2D)   (None, 50, 50, 64)        0         \n",
            "_________________________________________________________________\n",
            "block2_conv1 (Conv2D)        (None, 50, 50, 128)       73856     \n",
            "_________________________________________________________________\n",
            "block2_conv2 (Conv2D)        (None, 50, 50, 128)       147584    \n",
            "_________________________________________________________________\n",
            "block2_pool (MaxPooling2D)   (None, 25, 25, 128)       0         \n",
            "_________________________________________________________________\n",
            "block3_conv1 (Conv2D)        (None, 25, 25, 256)       295168    \n",
            "_________________________________________________________________\n",
            "block3_conv2 (Conv2D)        (None, 25, 25, 256)       590080    \n",
            "_________________________________________________________________\n",
            "block3_conv3 (Conv2D)        (None, 25, 25, 256)       590080    \n",
            "_________________________________________________________________\n",
            "block3_pool (MaxPooling2D)   (None, 12, 12, 256)       0         \n",
            "_________________________________________________________________\n",
            "block4_conv1 (Conv2D)        (None, 12, 12, 512)       1180160   \n",
            "_________________________________________________________________\n",
            "block4_conv2 (Conv2D)        (None, 12, 12, 512)       2359808   \n",
            "_________________________________________________________________\n",
            "block4_conv3 (Conv2D)        (None, 12, 12, 512)       2359808   \n",
            "_________________________________________________________________\n",
            "block4_pool (MaxPooling2D)   (None, 6, 6, 512)         0         \n",
            "_________________________________________________________________\n",
            "block5_conv1 (Conv2D)        (None, 6, 6, 512)         2359808   \n",
            "_________________________________________________________________\n",
            "block5_conv2 (Conv2D)        (None, 6, 6, 512)         2359808   \n",
            "_________________________________________________________________\n",
            "block5_conv3 (Conv2D)        (None, 6, 6, 512)         2359808   \n",
            "_________________________________________________________________\n",
            "block5_pool (MaxPooling2D)   (None, 3, 3, 512)         0         \n",
            "=================================================================\n",
            "Total params: 14,714,688\n",
            "Trainable params: 14,714,688\n",
            "Non-trainable params: 0\n",
            "_________________________________________________________________\n"
          ],
          "name": "stdout"
        }
      ]
    },
    {
      "cell_type": "code",
      "metadata": {
        "id": "zoW_1KmkEVd_"
      },
      "source": [
        "for layers in model.layers:\r\n",
        "  layers.trainable=False"
      ],
      "execution_count": 57,
      "outputs": []
    },
    {
      "cell_type": "code",
      "metadata": {
        "colab": {
          "base_uri": "https://localhost:8080/"
        },
        "id": "Fbk0pIFWN1P3",
        "outputId": "088b20d7-d9a0-4945-e568-d5640aa533ac"
      },
      "source": [
        "model.output"
      ],
      "execution_count": 58,
      "outputs": [
        {
          "output_type": "execute_result",
          "data": {
            "text/plain": [
              "<KerasTensor: shape=(None, 3, 3, 512) dtype=float32 (created by layer 'block5_pool')>"
            ]
          },
          "metadata": {
            "tags": []
          },
          "execution_count": 58
        }
      ]
    },
    {
      "cell_type": "code",
      "metadata": {
        "id": "xwrIqhJFF4tl"
      },
      "source": [
        "x= model.output"
      ],
      "execution_count": 59,
      "outputs": []
    },
    {
      "cell_type": "code",
      "metadata": {
        "id": "r21YZ9kIEuuG"
      },
      "source": [
        "final=Model(inputs=model.input,outputs=Dense(1,activation=\"sigmoid\")(Flatten()(x)))"
      ],
      "execution_count": 60,
      "outputs": []
    },
    {
      "cell_type": "code",
      "metadata": {
        "colab": {
          "base_uri": "https://localhost:8080/"
        },
        "id": "aQ-K70mlGRJJ",
        "outputId": "557462cb-9d9b-42ea-afff-1f167763b3dc"
      },
      "source": [
        "final.summary()"
      ],
      "execution_count": 61,
      "outputs": [
        {
          "output_type": "stream",
          "text": [
            "Model: \"model_2\"\n",
            "_________________________________________________________________\n",
            "Layer (type)                 Output Shape              Param #   \n",
            "=================================================================\n",
            "input_3 (InputLayer)         [(None, 100, 100, 3)]     0         \n",
            "_________________________________________________________________\n",
            "block1_conv1 (Conv2D)        (None, 100, 100, 64)      1792      \n",
            "_________________________________________________________________\n",
            "block1_conv2 (Conv2D)        (None, 100, 100, 64)      36928     \n",
            "_________________________________________________________________\n",
            "block1_pool (MaxPooling2D)   (None, 50, 50, 64)        0         \n",
            "_________________________________________________________________\n",
            "block2_conv1 (Conv2D)        (None, 50, 50, 128)       73856     \n",
            "_________________________________________________________________\n",
            "block2_conv2 (Conv2D)        (None, 50, 50, 128)       147584    \n",
            "_________________________________________________________________\n",
            "block2_pool (MaxPooling2D)   (None, 25, 25, 128)       0         \n",
            "_________________________________________________________________\n",
            "block3_conv1 (Conv2D)        (None, 25, 25, 256)       295168    \n",
            "_________________________________________________________________\n",
            "block3_conv2 (Conv2D)        (None, 25, 25, 256)       590080    \n",
            "_________________________________________________________________\n",
            "block3_conv3 (Conv2D)        (None, 25, 25, 256)       590080    \n",
            "_________________________________________________________________\n",
            "block3_pool (MaxPooling2D)   (None, 12, 12, 256)       0         \n",
            "_________________________________________________________________\n",
            "block4_conv1 (Conv2D)        (None, 12, 12, 512)       1180160   \n",
            "_________________________________________________________________\n",
            "block4_conv2 (Conv2D)        (None, 12, 12, 512)       2359808   \n",
            "_________________________________________________________________\n",
            "block4_conv3 (Conv2D)        (None, 12, 12, 512)       2359808   \n",
            "_________________________________________________________________\n",
            "block4_pool (MaxPooling2D)   (None, 6, 6, 512)         0         \n",
            "_________________________________________________________________\n",
            "block5_conv1 (Conv2D)        (None, 6, 6, 512)         2359808   \n",
            "_________________________________________________________________\n",
            "block5_conv2 (Conv2D)        (None, 6, 6, 512)         2359808   \n",
            "_________________________________________________________________\n",
            "block5_conv3 (Conv2D)        (None, 6, 6, 512)         2359808   \n",
            "_________________________________________________________________\n",
            "block5_pool (MaxPooling2D)   (None, 3, 3, 512)         0         \n",
            "_________________________________________________________________\n",
            "flatten_3 (Flatten)          (None, 4608)              0         \n",
            "_________________________________________________________________\n",
            "dense_3 (Dense)              (None, 1)                 4609      \n",
            "=================================================================\n",
            "Total params: 14,719,297\n",
            "Trainable params: 4,609\n",
            "Non-trainable params: 14,714,688\n",
            "_________________________________________________________________\n"
          ],
          "name": "stdout"
        }
      ]
    },
    {
      "cell_type": "code",
      "metadata": {
        "colab": {
          "base_uri": "https://localhost:8080/"
        },
        "id": "xVsPBTW0HEeR",
        "outputId": "7acf211e-6a4f-42ca-9c2b-a9694dd7c924"
      },
      "source": [
        "model.input"
      ],
      "execution_count": 62,
      "outputs": [
        {
          "output_type": "execute_result",
          "data": {
            "text/plain": [
              "<KerasTensor: shape=(None, 100, 100, 3) dtype=float32 (created by layer 'input_3')>"
            ]
          },
          "metadata": {
            "tags": []
          },
          "execution_count": 62
        }
      ]
    },
    {
      "cell_type": "code",
      "metadata": {
        "id": "7NUcHoVxGVCb"
      },
      "source": [
        "final.compile(optimizer=\"adam\",loss=\"binary_crossentropy\",metrics=['accuracy'])"
      ],
      "execution_count": 63,
      "outputs": []
    },
    {
      "cell_type": "code",
      "metadata": {
        "id": "AIICAcdcHZ9A"
      },
      "source": [
        "train_path=\"/content/drive/MyDrive/CollabNotebooks/training_set/training_set\"\r\n",
        "test_path=\"/content/drive/MyDrive/CollabNotebooks/test_set/test_set\""
      ],
      "execution_count": 64,
      "outputs": []
    },
    {
      "cell_type": "code",
      "metadata": {
        "id": "zhz955UyHo6L"
      },
      "source": [
        "train_augmen=ImageDataGenerator(rescale=1./255,shear_range=0.3,zoom_range=0.2,horizontal_flip=True)\r\n",
        "test_augmen=ImageDataGenerator(rescale=1./255)"
      ],
      "execution_count": 65,
      "outputs": []
    },
    {
      "cell_type": "code",
      "metadata": {
        "colab": {
          "base_uri": "https://localhost:8080/"
        },
        "id": "XbnUvh4PIEVq",
        "outputId": "826d57d2-4423-46ef-e7b5-43ca8031b6cb"
      },
      "source": [
        "final_train=train_augmen.flow_from_directory(train_path,target_size=(100,100),batch_size=35,class_mode='binary')"
      ],
      "execution_count": 66,
      "outputs": [
        {
          "output_type": "stream",
          "text": [
            "Found 8005 images belonging to 2 classes.\n"
          ],
          "name": "stdout"
        }
      ]
    },
    {
      "cell_type": "code",
      "metadata": {
        "colab": {
          "base_uri": "https://localhost:8080/"
        },
        "id": "sg0bEOV6IhvB",
        "outputId": "801eadd2-dcaf-4b28-871c-44100446f0c0"
      },
      "source": [
        "final_test=train_augmen.flow_from_directory(test_path,target_size=(100,100),batch_size=35,class_mode='binary')"
      ],
      "execution_count": 67,
      "outputs": [
        {
          "output_type": "stream",
          "text": [
            "Found 2023 images belonging to 2 classes.\n"
          ],
          "name": "stdout"
        }
      ]
    },
    {
      "cell_type": "code",
      "metadata": {
        "colab": {
          "base_uri": "https://localhost:8080/"
        },
        "id": "Eqc5y2AWR6uL",
        "outputId": "11007ba3-3569-467e-8edc-687c733e16e6"
      },
      "source": [
        "l=len(final_test)\r\n",
        "l"
      ],
      "execution_count": 72,
      "outputs": [
        {
          "output_type": "execute_result",
          "data": {
            "text/plain": [
              "58"
            ]
          },
          "metadata": {
            "tags": []
          },
          "execution_count": 72
        }
      ]
    },
    {
      "cell_type": "code",
      "metadata": {
        "colab": {
          "base_uri": "https://localhost:8080/"
        },
        "id": "-SZjJ9icJUyK",
        "outputId": "2afe5182-5a85-4451-a751-25d0e4390bb6"
      },
      "source": [
        "vgg16=final.fit_generator(final_train,epochs=5,steps_per_epoch=20,validation_data=final_test,validation_steps=l)"
      ],
      "execution_count": 73,
      "outputs": [
        {
          "output_type": "stream",
          "text": [
            "/usr/local/lib/python3.6/dist-packages/tensorflow/python/keras/engine/training.py:1844: UserWarning: `Model.fit_generator` is deprecated and will be removed in a future version. Please use `Model.fit`, which supports generators.\n",
            "  warnings.warn('`Model.fit_generator` is deprecated and '\n"
          ],
          "name": "stderr"
        },
        {
          "output_type": "stream",
          "text": [
            "Epoch 1/5\n",
            "20/20 [==============================] - 645s 33s/step - loss: 0.4988 - accuracy: 0.7586 - val_loss: 0.4695 - val_accuracy: 0.7830\n",
            "Epoch 2/5\n",
            "20/20 [==============================] - 427s 22s/step - loss: 0.4604 - accuracy: 0.7886 - val_loss: 0.4566 - val_accuracy: 0.7954\n",
            "Epoch 3/5\n",
            "20/20 [==============================] - 424s 22s/step - loss: 0.4134 - accuracy: 0.8271 - val_loss: 0.4231 - val_accuracy: 0.8102\n",
            "Epoch 4/5\n",
            "20/20 [==============================] - 397s 20s/step - loss: 0.4220 - accuracy: 0.7971 - val_loss: 0.4072 - val_accuracy: 0.8230\n",
            "Epoch 5/5\n",
            "20/20 [==============================] - 383s 20s/step - loss: 0.3808 - accuracy: 0.8514 - val_loss: 0.3946 - val_accuracy: 0.8211\n"
          ],
          "name": "stdout"
        }
      ]
    },
    {
      "cell_type": "code",
      "metadata": {
        "id": "APmgR7klhTmi"
      },
      "source": [
        "final.save('vggmodel.h5')\r\n",
        "#Saving our model file"
      ],
      "execution_count": 79,
      "outputs": []
    },
    {
      "cell_type": "code",
      "metadata": {
        "id": "Ug3-HfLNKUMj",
        "colab": {
          "base_uri": "https://localhost:8080/",
          "height": 265
        },
        "outputId": "e08cb37e-8011-4ef8-dc35-ab794e946312"
      },
      "source": [
        "#Evaluating our model accuracy\r\n",
        "import matplotlib.pyplot as plt\r\n",
        "plt.plot(vgg16.history['accuracy'])\r\n",
        "plt.plot(vgg16.history['val_accuracy'])\r\n",
        "plt.show()"
      ],
      "execution_count": 80,
      "outputs": [
        {
          "output_type": "display_data",
          "data": {
            "image/png": "[encoded data removed]",
            "text/plain": [
              "<Figure size 432x288 with 1 Axes>"
            ]
          },
          "metadata": {
            "tags": [],
            "needs_background": "light"
          }
        }
      ]
    },
    {
      "cell_type": "code",
      "metadata": {
        "id": "T344u7uPhSZs"
      },
      "source": [
        "#We saw that our model is not overfitted"
      ],
      "execution_count": null,
      "outputs": []
    },
    {
      "cell_type": "code",
      "metadata": {
        "id": "gFKjNLFEhCPn"
      },
      "source": [
        "import numpy as np\r\n",
        "from tensorflow.keras.preprocessing import image\r\n",
        "img=image.load_img('/content/drive/MyDrive/CollabNotebooks/test_set/test_set/cats/cat.4001.jpg',target_size=(100,100))\r\n"
      ],
      "execution_count": 82,
      "outputs": []
    },
    {
      "cell_type": "code",
      "metadata": {
        "id": "wTFqqb8Hh9mi"
      },
      "source": [
        "image_array=image.img_to_array(img)\r\n",
        "image_array=np.expand_dims(image_array/255,axis=0)"
      ],
      "execution_count": 83,
      "outputs": []
    },
    {
      "cell_type": "code",
      "metadata": {
        "colab": {
          "base_uri": "https://localhost:8080/"
        },
        "id": "sZFMacBzis_S",
        "outputId": "2fb61748-e3ac-4e8c-c8fa-834aa1cc9344"
      },
      "source": [
        "final.predict(image_array)"
      ],
      "execution_count": 84,
      "outputs": [
        {
          "output_type": "execute_result",
          "data": {
            "text/plain": [
              "array([[0.42038772]], dtype=float32)"
            ]
          },
          "metadata": {
            "tags": []
          },
          "execution_count": 84
        }
      ]
    },
    {
      "cell_type": "code",
      "metadata": {
        "id": "D-uvjBi6ixPs"
      },
      "source": [
        "#We had 2 folders in our drive,First is cat and other is dog.\r\n",
        "#Whenever we will have prediction less than 0.5 Then its a Cat \r\n",
        "#else if prediction is greater than 0.5 then its a dog"
      ],
      "execution_count": null,
      "outputs": []
    }
  ]
}